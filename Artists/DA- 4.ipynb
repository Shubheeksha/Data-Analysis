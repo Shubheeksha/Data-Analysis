{
 "cells": [
  {
   "cell_type": "code",
   "execution_count": 38,
   "id": "c89875c6-09e5-466e-b82a-fa5fdd3e5bfc",
   "metadata": {},
   "outputs": [],
   "source": [
    "import pandas as pd\n",
    "import numpy as np\n",
    "import matplotlib.pyplot as plt\n",
    "%matplotlib inline\n",
    "import seaborn as sns"
   ]
  },
  {
   "cell_type": "code",
   "execution_count": 39,
   "id": "0e9ee03e-bb0b-4102-a7f3-9db16c9f8e5c",
   "metadata": {},
   "outputs": [],
   "source": [
    "df = pd.read_csv('Artists.csv', encoding='unicode_escape')"
   ]
  },
  {
   "cell_type": "code",
   "execution_count": 40,
   "id": "90fcb8ce-76c3-4b18-9695-37ceb085a9fa",
   "metadata": {},
   "outputs": [
    {
     "data": {
      "text/html": [
       "<div>\n",
       "<style scoped>\n",
       "    .dataframe tbody tr th:only-of-type {\n",
       "        vertical-align: middle;\n",
       "    }\n",
       "\n",
       "    .dataframe tbody tr th {\n",
       "        vertical-align: top;\n",
       "    }\n",
       "\n",
       "    .dataframe thead th {\n",
       "        text-align: right;\n",
       "    }\n",
       "</style>\n",
       "<table border=\"1\" class=\"dataframe\">\n",
       "  <thead>\n",
       "    <tr style=\"text-align: right;\">\n",
       "      <th></th>\n",
       "      <th>ï»¿ConstituentID</th>\n",
       "      <th>DisplayName</th>\n",
       "      <th>ArtistBio</th>\n",
       "      <th>Nationality</th>\n",
       "      <th>Gender</th>\n",
       "      <th>BeginDate</th>\n",
       "      <th>EndDate</th>\n",
       "      <th>Wiki QID</th>\n",
       "      <th>ULAN</th>\n",
       "    </tr>\n",
       "  </thead>\n",
       "  <tbody>\n",
       "    <tr>\n",
       "      <th>0</th>\n",
       "      <td>1</td>\n",
       "      <td>Robert Arneson</td>\n",
       "      <td>American, 1930â1992</td>\n",
       "      <td>American</td>\n",
       "      <td>Male</td>\n",
       "      <td>1930</td>\n",
       "      <td>1992</td>\n",
       "      <td>NaN</td>\n",
       "      <td>NaN</td>\n",
       "    </tr>\n",
       "    <tr>\n",
       "      <th>1</th>\n",
       "      <td>2</td>\n",
       "      <td>Doroteo Arnaiz</td>\n",
       "      <td>Spanish, born 1936</td>\n",
       "      <td>Spanish</td>\n",
       "      <td>Male</td>\n",
       "      <td>1936</td>\n",
       "      <td>0</td>\n",
       "      <td>NaN</td>\n",
       "      <td>NaN</td>\n",
       "    </tr>\n",
       "    <tr>\n",
       "      <th>2</th>\n",
       "      <td>3</td>\n",
       "      <td>Bill Arnold</td>\n",
       "      <td>American, born 1941</td>\n",
       "      <td>American</td>\n",
       "      <td>Male</td>\n",
       "      <td>1941</td>\n",
       "      <td>0</td>\n",
       "      <td>NaN</td>\n",
       "      <td>NaN</td>\n",
       "    </tr>\n",
       "    <tr>\n",
       "      <th>3</th>\n",
       "      <td>4</td>\n",
       "      <td>Charles Arnoldi</td>\n",
       "      <td>American, born 1946</td>\n",
       "      <td>American</td>\n",
       "      <td>Male</td>\n",
       "      <td>1946</td>\n",
       "      <td>0</td>\n",
       "      <td>Q1063584</td>\n",
       "      <td>500027998.0</td>\n",
       "    </tr>\n",
       "    <tr>\n",
       "      <th>4</th>\n",
       "      <td>5</td>\n",
       "      <td>Per Arnoldi</td>\n",
       "      <td>Danish, born 1941</td>\n",
       "      <td>Danish</td>\n",
       "      <td>Male</td>\n",
       "      <td>1941</td>\n",
       "      <td>0</td>\n",
       "      <td>NaN</td>\n",
       "      <td>NaN</td>\n",
       "    </tr>\n",
       "  </tbody>\n",
       "</table>\n",
       "</div>"
      ],
      "text/plain": [
       "   ï»¿ConstituentID      DisplayName              ArtistBio Nationality  \\\n",
       "0                 1   Robert Arneson  American, 1930â1992    American   \n",
       "1                 2   Doroteo Arnaiz     Spanish, born 1936     Spanish   \n",
       "2                 3      Bill Arnold    American, born 1941    American   \n",
       "3                 4  Charles Arnoldi    American, born 1946    American   \n",
       "4                 5      Per Arnoldi      Danish, born 1941      Danish   \n",
       "\n",
       "  Gender  BeginDate  EndDate  Wiki QID         ULAN  \n",
       "0   Male       1930     1992       NaN          NaN  \n",
       "1   Male       1936        0       NaN          NaN  \n",
       "2   Male       1941        0       NaN          NaN  \n",
       "3   Male       1946        0  Q1063584  500027998.0  \n",
       "4   Male       1941        0       NaN          NaN  "
      ]
     },
     "execution_count": 40,
     "metadata": {},
     "output_type": "execute_result"
    }
   ],
   "source": [
    "df.head()"
   ]
  },
  {
   "cell_type": "code",
   "execution_count": 41,
   "id": "312ecc74-db09-40ae-9591-89b5987f76e7",
   "metadata": {},
   "outputs": [
    {
     "data": {
      "text/plain": [
       "(15243, 9)"
      ]
     },
     "execution_count": 41,
     "metadata": {},
     "output_type": "execute_result"
    }
   ],
   "source": [
    "df.shape"
   ]
  },
  {
   "cell_type": "code",
   "execution_count": 42,
   "id": "a8b938bb-8360-45c3-893d-07177447a3f1",
   "metadata": {
    "scrolled": true
   },
   "outputs": [
    {
     "name": "stdout",
     "output_type": "stream",
     "text": [
      "<class 'pandas.core.frame.DataFrame'>\n",
      "RangeIndex: 15243 entries, 0 to 15242\n",
      "Data columns (total 9 columns):\n",
      " #   Column            Non-Null Count  Dtype  \n",
      "---  ------            --------------  -----  \n",
      " 0   ï»¿ConstituentID  15243 non-null  int64  \n",
      " 1   DisplayName       15243 non-null  object \n",
      " 2   ArtistBio         13028 non-null  object \n",
      " 3   Nationality       12771 non-null  object \n",
      " 4   Gender            12078 non-null  object \n",
      " 5   BeginDate         15243 non-null  int64  \n",
      " 6   EndDate           15243 non-null  int64  \n",
      " 7   Wiki QID          3249 non-null   object \n",
      " 8   ULAN              2932 non-null   float64\n",
      "dtypes: float64(1), int64(3), object(5)\n",
      "memory usage: 1.0+ MB\n"
     ]
    }
   ],
   "source": [
    "df.info()"
   ]
  },
  {
   "cell_type": "code",
   "execution_count": 43,
   "id": "5bee48fc-83dd-443d-8a92-a98c31112da5",
   "metadata": {},
   "outputs": [],
   "source": [
    "df.rename(columns={'ï»¿ConstituentID': 'ConstituentID'}, inplace=True)"
   ]
  },
  {
   "cell_type": "code",
   "execution_count": 44,
   "id": "60dac9b0-6281-4735-947e-71c434f976e2",
   "metadata": {},
   "outputs": [
    {
     "data": {
      "text/plain": [
       "0                        American, 1930â1992\n",
       "1                           Spanish, born 1936\n",
       "2                          American, born 1941\n",
       "3                          American, born 1946\n",
       "4                            Danish, born 1941\n",
       "                         ...                  \n",
       "15238                        Malian, born 1953\n",
       "15239                  American, 1942 â 2021\n",
       "15240                        Danish, born 1971\n",
       "15241    French, born Switzerland. 1889â1943\n",
       "15242                    American, 1919â2012\n",
       "Name: ArtistBio, Length: 15243, dtype: object"
      ]
     },
     "execution_count": 44,
     "metadata": {},
     "output_type": "execute_result"
    }
   ],
   "source": [
    "df['ArtistBio']"
   ]
  },
  {
   "cell_type": "code",
   "execution_count": 45,
   "id": "abef579b-8209-466a-ba7e-3e7ed038679c",
   "metadata": {},
   "outputs": [
    {
     "name": "stdout",
     "output_type": "stream",
     "text": [
      "ConstituentID                                   135111\n",
      "DisplayName                   After Sophie Taeuber-Arp\n",
      "ArtistBio        French, born Switzerland. 1889â1943\n",
      "Nationality                                        NaN\n",
      "Gender                                             NaN\n",
      "BeginDate                                            0\n",
      "EndDate                                              0\n",
      "Wiki QID                                           NaN\n",
      "ULAN                                               NaN\n",
      "Name: 15241, dtype: object\n"
     ]
    }
   ],
   "source": [
    "row = df.iloc[15241]\n",
    "print(row)\n"
   ]
  },
  {
   "cell_type": "code",
   "execution_count": 46,
   "id": "7cceb03c-875e-47cb-ab5e-ef4cdf49082a",
   "metadata": {},
   "outputs": [
    {
     "data": {
      "text/plain": [
       "0"
      ]
     },
     "execution_count": 46,
     "metadata": {},
     "output_type": "execute_result"
    }
   ],
   "source": [
    "df.duplicated().sum()"
   ]
  },
  {
   "cell_type": "code",
   "execution_count": 47,
   "id": "718dabea-413b-4e34-84b8-2ba5f34936dd",
   "metadata": {},
   "outputs": [
    {
     "data": {
      "text/html": [
       "<div>\n",
       "<style scoped>\n",
       "    .dataframe tbody tr th:only-of-type {\n",
       "        vertical-align: middle;\n",
       "    }\n",
       "\n",
       "    .dataframe tbody tr th {\n",
       "        vertical-align: top;\n",
       "    }\n",
       "\n",
       "    .dataframe thead th {\n",
       "        text-align: right;\n",
       "    }\n",
       "</style>\n",
       "<table border=\"1\" class=\"dataframe\">\n",
       "  <thead>\n",
       "    <tr style=\"text-align: right;\">\n",
       "      <th></th>\n",
       "      <th>ConstituentID</th>\n",
       "      <th>DisplayName</th>\n",
       "      <th>ArtistBio</th>\n",
       "      <th>Nationality</th>\n",
       "      <th>Gender</th>\n",
       "      <th>BeginDate</th>\n",
       "      <th>EndDate</th>\n",
       "      <th>Wiki QID</th>\n",
       "      <th>ULAN</th>\n",
       "    </tr>\n",
       "  </thead>\n",
       "  <tbody>\n",
       "    <tr>\n",
       "      <th>0</th>\n",
       "      <td>1</td>\n",
       "      <td>Robert Arneson</td>\n",
       "      <td>American, 1930â1992</td>\n",
       "      <td>American</td>\n",
       "      <td>Male</td>\n",
       "      <td>1930</td>\n",
       "      <td>1992</td>\n",
       "      <td>NaN</td>\n",
       "      <td>NaN</td>\n",
       "    </tr>\n",
       "    <tr>\n",
       "      <th>1</th>\n",
       "      <td>2</td>\n",
       "      <td>Doroteo Arnaiz</td>\n",
       "      <td>Spanish, born 1936</td>\n",
       "      <td>Spanish</td>\n",
       "      <td>Male</td>\n",
       "      <td>1936</td>\n",
       "      <td>0</td>\n",
       "      <td>NaN</td>\n",
       "      <td>NaN</td>\n",
       "    </tr>\n",
       "    <tr>\n",
       "      <th>2</th>\n",
       "      <td>3</td>\n",
       "      <td>Bill Arnold</td>\n",
       "      <td>American, born 1941</td>\n",
       "      <td>American</td>\n",
       "      <td>Male</td>\n",
       "      <td>1941</td>\n",
       "      <td>0</td>\n",
       "      <td>NaN</td>\n",
       "      <td>NaN</td>\n",
       "    </tr>\n",
       "    <tr>\n",
       "      <th>3</th>\n",
       "      <td>4</td>\n",
       "      <td>Charles Arnoldi</td>\n",
       "      <td>American, born 1946</td>\n",
       "      <td>American</td>\n",
       "      <td>Male</td>\n",
       "      <td>1946</td>\n",
       "      <td>0</td>\n",
       "      <td>Q1063584</td>\n",
       "      <td>500027998.0</td>\n",
       "    </tr>\n",
       "    <tr>\n",
       "      <th>4</th>\n",
       "      <td>5</td>\n",
       "      <td>Per Arnoldi</td>\n",
       "      <td>Danish, born 1941</td>\n",
       "      <td>Danish</td>\n",
       "      <td>Male</td>\n",
       "      <td>1941</td>\n",
       "      <td>0</td>\n",
       "      <td>NaN</td>\n",
       "      <td>NaN</td>\n",
       "    </tr>\n",
       "    <tr>\n",
       "      <th>...</th>\n",
       "      <td>...</td>\n",
       "      <td>...</td>\n",
       "      <td>...</td>\n",
       "      <td>...</td>\n",
       "      <td>...</td>\n",
       "      <td>...</td>\n",
       "      <td>...</td>\n",
       "      <td>...</td>\n",
       "      <td>...</td>\n",
       "    </tr>\n",
       "    <tr>\n",
       "      <th>15238</th>\n",
       "      <td>135018</td>\n",
       "      <td>Abdoulaye KonatÃ©</td>\n",
       "      <td>Malian, born 1953</td>\n",
       "      <td>Malian</td>\n",
       "      <td>NaN</td>\n",
       "      <td>1953</td>\n",
       "      <td>0</td>\n",
       "      <td>NaN</td>\n",
       "      <td>NaN</td>\n",
       "    </tr>\n",
       "    <tr>\n",
       "      <th>15239</th>\n",
       "      <td>135032</td>\n",
       "      <td>Yolanda Lopez</td>\n",
       "      <td>American, 1942 â 2021</td>\n",
       "      <td>American</td>\n",
       "      <td>Female</td>\n",
       "      <td>1942</td>\n",
       "      <td>2021</td>\n",
       "      <td>NaN</td>\n",
       "      <td>NaN</td>\n",
       "    </tr>\n",
       "    <tr>\n",
       "      <th>15240</th>\n",
       "      <td>135042</td>\n",
       "      <td>Arnt Jensen</td>\n",
       "      <td>Danish, born 1971</td>\n",
       "      <td>Danish</td>\n",
       "      <td>Male</td>\n",
       "      <td>1971</td>\n",
       "      <td>0</td>\n",
       "      <td>NaN</td>\n",
       "      <td>NaN</td>\n",
       "    </tr>\n",
       "    <tr>\n",
       "      <th>15241</th>\n",
       "      <td>135111</td>\n",
       "      <td>After Sophie Taeuber-Arp</td>\n",
       "      <td>French, born Switzerland. 1889â1943</td>\n",
       "      <td>NaN</td>\n",
       "      <td>NaN</td>\n",
       "      <td>0</td>\n",
       "      <td>0</td>\n",
       "      <td>NaN</td>\n",
       "      <td>NaN</td>\n",
       "    </tr>\n",
       "    <tr>\n",
       "      <th>15242</th>\n",
       "      <td>135298</td>\n",
       "      <td>William Theophilius Brown</td>\n",
       "      <td>American, 1919â2012</td>\n",
       "      <td>American</td>\n",
       "      <td>Male</td>\n",
       "      <td>1919</td>\n",
       "      <td>2012</td>\n",
       "      <td>NaN</td>\n",
       "      <td>NaN</td>\n",
       "    </tr>\n",
       "  </tbody>\n",
       "</table>\n",
       "<p>15243 rows × 9 columns</p>\n",
       "</div>"
      ],
      "text/plain": [
       "       ConstituentID                DisplayName  \\\n",
       "0                  1             Robert Arneson   \n",
       "1                  2             Doroteo Arnaiz   \n",
       "2                  3                Bill Arnold   \n",
       "3                  4            Charles Arnoldi   \n",
       "4                  5                Per Arnoldi   \n",
       "...              ...                        ...   \n",
       "15238         135018          Abdoulaye KonatÃ©   \n",
       "15239         135032              Yolanda Lopez   \n",
       "15240         135042                Arnt Jensen   \n",
       "15241         135111   After Sophie Taeuber-Arp   \n",
       "15242         135298  William Theophilius Brown   \n",
       "\n",
       "                                   ArtistBio Nationality  Gender  BeginDate  \\\n",
       "0                      American, 1930â1992    American    Male       1930   \n",
       "1                         Spanish, born 1936     Spanish    Male       1936   \n",
       "2                        American, born 1941    American    Male       1941   \n",
       "3                        American, born 1946    American    Male       1946   \n",
       "4                          Danish, born 1941      Danish    Male       1941   \n",
       "...                                      ...         ...     ...        ...   \n",
       "15238                      Malian, born 1953      Malian     NaN       1953   \n",
       "15239                American, 1942 â 2021    American  Female       1942   \n",
       "15240                      Danish, born 1971      Danish    Male       1971   \n",
       "15241  French, born Switzerland. 1889â1943         NaN     NaN          0   \n",
       "15242                  American, 1919â2012    American    Male       1919   \n",
       "\n",
       "       EndDate  Wiki QID         ULAN  \n",
       "0         1992       NaN          NaN  \n",
       "1            0       NaN          NaN  \n",
       "2            0       NaN          NaN  \n",
       "3            0  Q1063584  500027998.0  \n",
       "4            0       NaN          NaN  \n",
       "...        ...       ...          ...  \n",
       "15238        0       NaN          NaN  \n",
       "15239     2021       NaN          NaN  \n",
       "15240        0       NaN          NaN  \n",
       "15241        0       NaN          NaN  \n",
       "15242     2012       NaN          NaN  \n",
       "\n",
       "[15243 rows x 9 columns]"
      ]
     },
     "execution_count": 47,
     "metadata": {},
     "output_type": "execute_result"
    }
   ],
   "source": [
    "df"
   ]
  },
  {
   "cell_type": "code",
   "execution_count": 48,
   "id": "dab678cc-4a9e-405d-9e5f-481aea762347",
   "metadata": {},
   "outputs": [
    {
     "data": {
      "text/plain": [
       "BeginDate\n",
       "0       3642\n",
       "1942     186\n",
       "1938     181\n",
       "1943     175\n",
       "1941     172\n",
       "        ... \n",
       "1799       1\n",
       "1730       1\n",
       "1746       1\n",
       "1772       1\n",
       "1765       1\n",
       "Name: count, Length: 236, dtype: int64"
      ]
     },
     "execution_count": 48,
     "metadata": {},
     "output_type": "execute_result"
    }
   ],
   "source": [
    "df['BeginDate'].value_counts()"
   ]
  },
  {
   "cell_type": "code",
   "execution_count": 49,
   "id": "f053ce3c-c20e-485c-961f-0ee01667023a",
   "metadata": {},
   "outputs": [],
   "source": [
    "df['EndDate'] = df['EndDate'].replace(0, np.nan)\n",
    "df['BeginDate'] = df['BeginDate'].replace(0, np.nan)"
   ]
  },
  {
   "cell_type": "code",
   "execution_count": 50,
   "id": "3ad5122d-0203-424a-9e5b-a3714ca5d952",
   "metadata": {},
   "outputs": [
    {
     "data": {
      "text/plain": [
       "ConstituentID        0\n",
       "DisplayName          0\n",
       "ArtistBio         2215\n",
       "Nationality       2472\n",
       "Gender            3165\n",
       "BeginDate         3642\n",
       "EndDate          10074\n",
       "Wiki QID         11994\n",
       "ULAN             12311\n",
       "dtype: int64"
      ]
     },
     "execution_count": 50,
     "metadata": {},
     "output_type": "execute_result"
    }
   ],
   "source": [
    "df.isna().sum()"
   ]
  },
  {
   "cell_type": "code",
   "execution_count": 51,
   "id": "0b5ec1c0-6ca4-429d-bf84-1efea52199a1",
   "metadata": {},
   "outputs": [],
   "source": [
    "df.drop(columns=['EndDate','Wiki QID','ULAN'],inplace = True)"
   ]
  },
  {
   "cell_type": "code",
   "execution_count": 52,
   "id": "9e28e10e-4e69-4f57-a375-1439d5fbebdd",
   "metadata": {},
   "outputs": [],
   "source": [
    "df.dropna(inplace = True)"
   ]
  },
  {
   "cell_type": "code",
   "execution_count": 53,
   "id": "6fe13e8c-bd32-4222-9a81-a938f4684eca",
   "metadata": {},
   "outputs": [
    {
     "data": {
      "text/plain": [
       "(10540, 6)"
      ]
     },
     "execution_count": 53,
     "metadata": {},
     "output_type": "execute_result"
    }
   ],
   "source": [
    "df.shape"
   ]
  },
  {
   "cell_type": "code",
   "execution_count": 66,
   "id": "87df1027-cd55-4590-83cb-d3b0b74fa0e1",
   "metadata": {},
   "outputs": [
    {
     "data": {
      "text/html": [
       "<div>\n",
       "<style scoped>\n",
       "    .dataframe tbody tr th:only-of-type {\n",
       "        vertical-align: middle;\n",
       "    }\n",
       "\n",
       "    .dataframe tbody tr th {\n",
       "        vertical-align: top;\n",
       "    }\n",
       "\n",
       "    .dataframe thead th {\n",
       "        text-align: right;\n",
       "    }\n",
       "</style>\n",
       "<table border=\"1\" class=\"dataframe\">\n",
       "  <thead>\n",
       "    <tr style=\"text-align: right;\">\n",
       "      <th></th>\n",
       "      <th>ConstituentID</th>\n",
       "      <th>DisplayName</th>\n",
       "      <th>ArtistBio</th>\n",
       "      <th>Nationality</th>\n",
       "      <th>Gender</th>\n",
       "      <th>BeginDate</th>\n",
       "    </tr>\n",
       "  </thead>\n",
       "  <tbody>\n",
       "    <tr>\n",
       "      <th>0</th>\n",
       "      <td>1</td>\n",
       "      <td>Robert Arneson</td>\n",
       "      <td>American,1930-1992</td>\n",
       "      <td>American</td>\n",
       "      <td>Male</td>\n",
       "      <td>1930.0</td>\n",
       "    </tr>\n",
       "    <tr>\n",
       "      <th>1</th>\n",
       "      <td>2</td>\n",
       "      <td>Doroteo Arnaiz</td>\n",
       "      <td>Spanish,born1936</td>\n",
       "      <td>Spanish</td>\n",
       "      <td>Male</td>\n",
       "      <td>1936.0</td>\n",
       "    </tr>\n",
       "    <tr>\n",
       "      <th>2</th>\n",
       "      <td>3</td>\n",
       "      <td>Bill Arnold</td>\n",
       "      <td>American,born1941</td>\n",
       "      <td>American</td>\n",
       "      <td>Male</td>\n",
       "      <td>1941.0</td>\n",
       "    </tr>\n",
       "    <tr>\n",
       "      <th>3</th>\n",
       "      <td>4</td>\n",
       "      <td>Charles Arnoldi</td>\n",
       "      <td>American,born1946</td>\n",
       "      <td>American</td>\n",
       "      <td>Male</td>\n",
       "      <td>1946.0</td>\n",
       "    </tr>\n",
       "    <tr>\n",
       "      <th>4</th>\n",
       "      <td>5</td>\n",
       "      <td>Per Arnoldi</td>\n",
       "      <td>Danish,born1941</td>\n",
       "      <td>Danish</td>\n",
       "      <td>Male</td>\n",
       "      <td>1941.0</td>\n",
       "    </tr>\n",
       "    <tr>\n",
       "      <th>...</th>\n",
       "      <td>...</td>\n",
       "      <td>...</td>\n",
       "      <td>...</td>\n",
       "      <td>...</td>\n",
       "      <td>...</td>\n",
       "      <td>...</td>\n",
       "    </tr>\n",
       "    <tr>\n",
       "      <th>15236</th>\n",
       "      <td>134919</td>\n",
       "      <td>William Downey</td>\n",
       "      <td>British,1829-1915</td>\n",
       "      <td>British</td>\n",
       "      <td>Male</td>\n",
       "      <td>1829.0</td>\n",
       "    </tr>\n",
       "    <tr>\n",
       "      <th>15237</th>\n",
       "      <td>134920</td>\n",
       "      <td>Daniel Downey</td>\n",
       "      <td>British,1831-1881</td>\n",
       "      <td>British</td>\n",
       "      <td>Male</td>\n",
       "      <td>1831.0</td>\n",
       "    </tr>\n",
       "    <tr>\n",
       "      <th>15239</th>\n",
       "      <td>135032</td>\n",
       "      <td>Yolanda Lopez</td>\n",
       "      <td>American,1942-2021</td>\n",
       "      <td>American</td>\n",
       "      <td>Female</td>\n",
       "      <td>1942.0</td>\n",
       "    </tr>\n",
       "    <tr>\n",
       "      <th>15240</th>\n",
       "      <td>135042</td>\n",
       "      <td>Arnt Jensen</td>\n",
       "      <td>Danish,born1971</td>\n",
       "      <td>Danish</td>\n",
       "      <td>Male</td>\n",
       "      <td>1971.0</td>\n",
       "    </tr>\n",
       "    <tr>\n",
       "      <th>15242</th>\n",
       "      <td>135298</td>\n",
       "      <td>William Theophilius Brown</td>\n",
       "      <td>American,1919-2012</td>\n",
       "      <td>American</td>\n",
       "      <td>Male</td>\n",
       "      <td>1919.0</td>\n",
       "    </tr>\n",
       "  </tbody>\n",
       "</table>\n",
       "<p>10540 rows × 6 columns</p>\n",
       "</div>"
      ],
      "text/plain": [
       "       ConstituentID                DisplayName           ArtistBio  \\\n",
       "0                  1             Robert Arneson  American,1930-1992   \n",
       "1                  2             Doroteo Arnaiz    Spanish,born1936   \n",
       "2                  3                Bill Arnold   American,born1941   \n",
       "3                  4            Charles Arnoldi   American,born1946   \n",
       "4                  5                Per Arnoldi     Danish,born1941   \n",
       "...              ...                        ...                 ...   \n",
       "15236         134919             William Downey   British,1829-1915   \n",
       "15237         134920              Daniel Downey   British,1831-1881   \n",
       "15239         135032              Yolanda Lopez  American,1942-2021   \n",
       "15240         135042                Arnt Jensen     Danish,born1971   \n",
       "15242         135298  William Theophilius Brown  American,1919-2012   \n",
       "\n",
       "      Nationality  Gender  BeginDate  \n",
       "0        American    Male     1930.0  \n",
       "1         Spanish    Male     1936.0  \n",
       "2        American    Male     1941.0  \n",
       "3        American    Male     1946.0  \n",
       "4          Danish    Male     1941.0  \n",
       "...           ...     ...        ...  \n",
       "15236     British    Male     1829.0  \n",
       "15237     British    Male     1831.0  \n",
       "15239    American  Female     1942.0  \n",
       "15240      Danish    Male     1971.0  \n",
       "15242    American    Male     1919.0  \n",
       "\n",
       "[10540 rows x 6 columns]"
      ]
     },
     "execution_count": 66,
     "metadata": {},
     "output_type": "execute_result"
    }
   ],
   "source": [
    "df"
   ]
  },
  {
   "cell_type": "code",
   "execution_count": 54,
   "id": "a7aa4a1f-b3a2-4e34-a0c5-f788b108212d",
   "metadata": {},
   "outputs": [],
   "source": [
    "df['ArtistBio'] = df['ArtistBio'].str.replace('â', '-').str.replace(' ', '')\n"
   ]
  },
  {
   "cell_type": "code",
   "execution_count": 55,
   "id": "e00a8756-9004-49c2-929a-44855dd5ac43",
   "metadata": {},
   "outputs": [
    {
     "data": {
      "text/plain": [
       "0        American,1930-1992\n",
       "1          Spanish,born1936\n",
       "2         American,born1941\n",
       "3         American,born1946\n",
       "4           Danish,born1941\n",
       "                ...        \n",
       "15236     British,1829-1915\n",
       "15237     British,1831-1881\n",
       "15239    American,1942-2021\n",
       "15240       Danish,born1971\n",
       "15242    American,1919-2012\n",
       "Name: ArtistBio, Length: 10540, dtype: object"
      ]
     },
     "execution_count": 55,
     "metadata": {},
     "output_type": "execute_result"
    }
   ],
   "source": [
    "df['ArtistBio']"
   ]
  },
  {
   "cell_type": "code",
   "execution_count": 56,
   "id": "ef36050d-a46d-41ee-9f17-fbcd2de0b87e",
   "metadata": {},
   "outputs": [
    {
     "data": {
      "text/html": [
       "<div>\n",
       "<style scoped>\n",
       "    .dataframe tbody tr th:only-of-type {\n",
       "        vertical-align: middle;\n",
       "    }\n",
       "\n",
       "    .dataframe tbody tr th {\n",
       "        vertical-align: top;\n",
       "    }\n",
       "\n",
       "    .dataframe thead th {\n",
       "        text-align: right;\n",
       "    }\n",
       "</style>\n",
       "<table border=\"1\" class=\"dataframe\">\n",
       "  <thead>\n",
       "    <tr style=\"text-align: right;\">\n",
       "      <th></th>\n",
       "      <th>ConstituentID</th>\n",
       "      <th>DisplayName</th>\n",
       "      <th>ArtistBio</th>\n",
       "      <th>Nationality</th>\n",
       "      <th>Gender</th>\n",
       "      <th>BeginDate</th>\n",
       "    </tr>\n",
       "  </thead>\n",
       "  <tbody>\n",
       "    <tr>\n",
       "      <th>0</th>\n",
       "      <td>1</td>\n",
       "      <td>Robert Arneson</td>\n",
       "      <td>American,1930-1992</td>\n",
       "      <td>American</td>\n",
       "      <td>Male</td>\n",
       "      <td>1930.0</td>\n",
       "    </tr>\n",
       "    <tr>\n",
       "      <th>1</th>\n",
       "      <td>2</td>\n",
       "      <td>Doroteo Arnaiz</td>\n",
       "      <td>Spanish,born1936</td>\n",
       "      <td>Spanish</td>\n",
       "      <td>Male</td>\n",
       "      <td>1936.0</td>\n",
       "    </tr>\n",
       "    <tr>\n",
       "      <th>2</th>\n",
       "      <td>3</td>\n",
       "      <td>Bill Arnold</td>\n",
       "      <td>American,born1941</td>\n",
       "      <td>American</td>\n",
       "      <td>Male</td>\n",
       "      <td>1941.0</td>\n",
       "    </tr>\n",
       "    <tr>\n",
       "      <th>3</th>\n",
       "      <td>4</td>\n",
       "      <td>Charles Arnoldi</td>\n",
       "      <td>American,born1946</td>\n",
       "      <td>American</td>\n",
       "      <td>Male</td>\n",
       "      <td>1946.0</td>\n",
       "    </tr>\n",
       "    <tr>\n",
       "      <th>4</th>\n",
       "      <td>5</td>\n",
       "      <td>Per Arnoldi</td>\n",
       "      <td>Danish,born1941</td>\n",
       "      <td>Danish</td>\n",
       "      <td>Male</td>\n",
       "      <td>1941.0</td>\n",
       "    </tr>\n",
       "    <tr>\n",
       "      <th>...</th>\n",
       "      <td>...</td>\n",
       "      <td>...</td>\n",
       "      <td>...</td>\n",
       "      <td>...</td>\n",
       "      <td>...</td>\n",
       "      <td>...</td>\n",
       "    </tr>\n",
       "    <tr>\n",
       "      <th>15236</th>\n",
       "      <td>134919</td>\n",
       "      <td>William Downey</td>\n",
       "      <td>British,1829-1915</td>\n",
       "      <td>British</td>\n",
       "      <td>Male</td>\n",
       "      <td>1829.0</td>\n",
       "    </tr>\n",
       "    <tr>\n",
       "      <th>15237</th>\n",
       "      <td>134920</td>\n",
       "      <td>Daniel Downey</td>\n",
       "      <td>British,1831-1881</td>\n",
       "      <td>British</td>\n",
       "      <td>Male</td>\n",
       "      <td>1831.0</td>\n",
       "    </tr>\n",
       "    <tr>\n",
       "      <th>15239</th>\n",
       "      <td>135032</td>\n",
       "      <td>Yolanda Lopez</td>\n",
       "      <td>American,1942-2021</td>\n",
       "      <td>American</td>\n",
       "      <td>Female</td>\n",
       "      <td>1942.0</td>\n",
       "    </tr>\n",
       "    <tr>\n",
       "      <th>15240</th>\n",
       "      <td>135042</td>\n",
       "      <td>Arnt Jensen</td>\n",
       "      <td>Danish,born1971</td>\n",
       "      <td>Danish</td>\n",
       "      <td>Male</td>\n",
       "      <td>1971.0</td>\n",
       "    </tr>\n",
       "    <tr>\n",
       "      <th>15242</th>\n",
       "      <td>135298</td>\n",
       "      <td>William Theophilius Brown</td>\n",
       "      <td>American,1919-2012</td>\n",
       "      <td>American</td>\n",
       "      <td>Male</td>\n",
       "      <td>1919.0</td>\n",
       "    </tr>\n",
       "  </tbody>\n",
       "</table>\n",
       "<p>10540 rows × 6 columns</p>\n",
       "</div>"
      ],
      "text/plain": [
       "       ConstituentID                DisplayName           ArtistBio  \\\n",
       "0                  1             Robert Arneson  American,1930-1992   \n",
       "1                  2             Doroteo Arnaiz    Spanish,born1936   \n",
       "2                  3                Bill Arnold   American,born1941   \n",
       "3                  4            Charles Arnoldi   American,born1946   \n",
       "4                  5                Per Arnoldi     Danish,born1941   \n",
       "...              ...                        ...                 ...   \n",
       "15236         134919             William Downey   British,1829-1915   \n",
       "15237         134920              Daniel Downey   British,1831-1881   \n",
       "15239         135032              Yolanda Lopez  American,1942-2021   \n",
       "15240         135042                Arnt Jensen     Danish,born1971   \n",
       "15242         135298  William Theophilius Brown  American,1919-2012   \n",
       "\n",
       "      Nationality  Gender  BeginDate  \n",
       "0        American    Male     1930.0  \n",
       "1         Spanish    Male     1936.0  \n",
       "2        American    Male     1941.0  \n",
       "3        American    Male     1946.0  \n",
       "4          Danish    Male     1941.0  \n",
       "...           ...     ...        ...  \n",
       "15236     British    Male     1829.0  \n",
       "15237     British    Male     1831.0  \n",
       "15239    American  Female     1942.0  \n",
       "15240      Danish    Male     1971.0  \n",
       "15242    American    Male     1919.0  \n",
       "\n",
       "[10540 rows x 6 columns]"
      ]
     },
     "execution_count": 56,
     "metadata": {},
     "output_type": "execute_result"
    }
   ],
   "source": [
    "df"
   ]
  },
  {
   "cell_type": "code",
   "execution_count": 57,
   "id": "a660eb53-a457-4f11-bb95-6c2cb807094a",
   "metadata": {},
   "outputs": [
    {
     "name": "stdout",
     "output_type": "stream",
     "text": [
      "<class 'pandas.core.frame.DataFrame'>\n",
      "Index: 10540 entries, 0 to 15242\n",
      "Data columns (total 6 columns):\n",
      " #   Column         Non-Null Count  Dtype  \n",
      "---  ------         --------------  -----  \n",
      " 0   ConstituentID  10540 non-null  int64  \n",
      " 1   DisplayName    10540 non-null  object \n",
      " 2   ArtistBio      10540 non-null  object \n",
      " 3   Nationality    10540 non-null  object \n",
      " 4   Gender         10540 non-null  object \n",
      " 5   BeginDate      10540 non-null  float64\n",
      "dtypes: float64(1), int64(1), object(4)\n",
      "memory usage: 576.4+ KB\n"
     ]
    }
   ],
   "source": [
    "df.info()"
   ]
  },
  {
   "cell_type": "code",
   "execution_count": 58,
   "id": "e390470b-fa31-4663-998e-2c6ccaeb2371",
   "metadata": {},
   "outputs": [
    {
     "data": {
      "text/plain": [
       "10532"
      ]
     },
     "execution_count": 58,
     "metadata": {},
     "output_type": "execute_result"
    }
   ],
   "source": [
    "df['DisplayName'].nunique()"
   ]
  },
  {
   "cell_type": "code",
   "execution_count": 59,
   "id": "1f88729b-9529-4dfd-91bc-657e2b03c54b",
   "metadata": {},
   "outputs": [
    {
     "data": {
      "text/plain": [
       "8"
      ]
     },
     "execution_count": 59,
     "metadata": {},
     "output_type": "execute_result"
    }
   ],
   "source": [
    "df['DisplayName'].duplicated().sum()"
   ]
  },
  {
   "cell_type": "code",
   "execution_count": 60,
   "id": "546b0366-ebe6-44ad-887c-cefb71f44e4b",
   "metadata": {},
   "outputs": [
    {
     "data": {
      "text/plain": [
       "<Axes: xlabel='Nationality', ylabel='count'>"
      ]
     },
     "execution_count": 60,
     "metadata": {},
     "output_type": "execute_result"
    },
    {
     "data": {
      "image/png": "[encoded data removed]",
      "text/plain": [
       "<Figure size 640x480 with 1 Axes>"
      ]
     },
     "metadata": {},
     "output_type": "display_data"
    }
   ],
   "source": [
    "sns.countplot(data = df, x = 'Nationality', hue = 'Gender')"
   ]
  },
  {
   "cell_type": "markdown",
   "id": "990f72c7-df76-424c-87b2-054cff132eb9",
   "metadata": {},
   "source": [
    "**Data is not cleaned properly, also many unique Nationality not ideal to show on bar graph all at once.**"
   ]
  },
  {
   "cell_type": "code",
   "execution_count": 61,
   "id": "aace39b5-516f-4f7a-bf92-6f98845c5bc8",
   "metadata": {},
   "outputs": [],
   "source": [
    "df['Gender'] = df['Gender'].str.capitalize()\n",
    "df['Gender'] = df['Gender'].str.replace(\"Non-Binary\", \"Non-binary\")"
   ]
  },
  {
   "cell_type": "code",
   "execution_count": 62,
   "id": "4545b9f3-b9bf-4eb4-a2c2-8c70b01b7127",
   "metadata": {},
   "outputs": [
    {
     "data": {
      "text/plain": [
       "array(['Male', 'Female', 'Non-binary'], dtype=object)"
      ]
     },
     "execution_count": 62,
     "metadata": {},
     "output_type": "execute_result"
    }
   ],
   "source": [
    "df['Gender'].unique()"
   ]
  },
  {
   "cell_type": "code",
   "execution_count": 71,
   "id": "558a6c61-0839-422e-b0f8-7740d026cce6",
   "metadata": {},
   "outputs": [
    {
     "data": {
      "text/plain": [
       "array(['American', 'Spanish', 'Danish', 'Italian', 'French', 'Estonian',\n",
       "       'Mexican', 'Swedish', 'British', 'Finnish', 'Polish',\n",
       "       'Palestinian', 'Japanese', 'Guatemalan', 'Colombian', 'Romanian',\n",
       "       'Israeli', 'German', 'Argentine', 'Kuwaiti', 'Belgian', 'Dutch',\n",
       "       'Norwegian', 'Chilean', 'Swiss', 'Costa Rican', 'Czech',\n",
       "       'Brazilian', 'Austrian', 'Canadian', 'Russian', 'Australian',\n",
       "       'Ukrainian', 'Hungarian', 'Haitian', 'Congolese', 'Bolivian',\n",
       "       'Cuban', 'Slovenian', 'Portuguese', 'Indian', 'Peruvian', 'Irish',\n",
       "       'Croatian', 'Uruguayan', 'Nationality unknown', 'Venezuelan',\n",
       "       'Native American', 'Turkish', 'Greek', 'Panamanian', 'Icelandic',\n",
       "       'Algerian', 'Ecuadorian', 'South African', 'Iranian', 'Korean',\n",
       "       'Serbian', 'Canadian Inuit', 'Paraguayan', 'Luxembourger',\n",
       "       'Zimbabwean', 'Moroccan', 'Nicaraguan', 'Tanzanian', 'Bulgarian',\n",
       "       'Sudanese', 'Taiwanese', 'Ethiopian', 'Scottish', 'Latvian',\n",
       "       'Chinese', 'Azerbaijani', 'Senegalese', 'Thai', 'New Zealander',\n",
       "       'Lithuanian', 'Pakistani', 'Bahamian', 'Bosnian', 'Malian',\n",
       "       'Georgian', 'Egyptian', 'Kenyan', 'Nigerian', 'Cypriot',\n",
       "       'Albanian', 'Slovak', 'Ivorian', 'Malaysian', 'Singaporean',\n",
       "       'Namibian', 'Cambodian', 'Ghanaian', 'Afghan', 'Lebanese',\n",
       "       'Kyrgyz', 'Vietnamese', 'Ugandan', 'Cameroonian', 'Filipino',\n",
       "       'Macedonian', 'Welsh', 'Mozambican', 'Puerto Rican', 'Bangladeshi',\n",
       "       'BurkinabÃ©', 'Beninese', 'Sierra Leonean', 'Emirati',\n",
       "       'Salvadoran', 'Iraqi'], dtype=object)"
      ]
     },
     "execution_count": 71,
     "metadata": {},
     "output_type": "execute_result"
    }
   ],
   "source": [
    "df['Nationality'].unique()"
   ]
  },
  {
   "cell_type": "code",
   "execution_count": 64,
   "id": "b43fdcfe-2b9c-4b4d-b30f-b28133af69d8",
   "metadata": {},
   "outputs": [
    {
     "data": {
      "image/png": "[encoded data removed]",
      "text/plain": [
       "<Figure size 640x480 with 1 Axes>"
      ]
     },
     "metadata": {},
     "output_type": "display_data"
    }
   ],
   "source": [
    "ax = sns.countplot(data = df, x = 'Gender')\n",
    "for bars in ax.containers:\n",
    "    ax.bar_label(bars)"
   ]
  },
  {
   "cell_type": "code",
   "execution_count": 89,
   "id": "78d0535b-c3d3-4275-b2f6-4791925b110b",
   "metadata": {},
   "outputs": [
    {
     "data": {
      "text/plain": [
       "([0, 1, 2, 3, 4, 5, 6, 7, 8, 9],\n",
       " [Text(0, 0, 'American'),\n",
       "  Text(1, 0, 'Italian'),\n",
       "  Text(2, 0, 'French'),\n",
       "  Text(3, 0, 'British'),\n",
       "  Text(4, 0, 'Japanese'),\n",
       "  Text(5, 0, 'German'),\n",
       "  Text(6, 0, 'Dutch'),\n",
       "  Text(7, 0, 'Swiss'),\n",
       "  Text(8, 0, 'Austrian'),\n",
       "  Text(9, 0, 'Russian')])"
      ]
     },
     "execution_count": 89,
     "metadata": {},
     "output_type": "execute_result"
    },
    {
     "data": {
      "image/png": "[encoded data removed]",
      "text/plain": [
       "<Figure size 1000x600 with 1 Axes>"
      ]
     },
     "metadata": {},
     "output_type": "display_data"
    }
   ],
   "source": [
    "top_10 = df['Nationality'].value_counts().sort_values(ascending=False).head(10)\n",
    "df_top_10 = df[df['Nationality'].isin(top_10.index)]\n",
    "plt.figure(figsize=(10, 6))\n",
    "ax=sns.countplot(data=df_top_10, x='Nationality')\n",
    "for bars in ax.containers:\n",
    "    ax.bar_label(bars)\n",
    "plt.title('Top 10 Nationalities')\n",
    "plt.xticks(rotation=45, ha='right')  \n"
   ]
  },
  {
   "cell_type": "code",
   "execution_count": 92,
   "id": "42882034-ea29-4e81-b061-7e01f38f54c1",
   "metadata": {},
   "outputs": [
    {
     "data": {
      "image/png": "[encoded data removed]",
      "text/plain": [
       "<Figure size 1000x600 with 1 Axes>"
      ]
     },
     "metadata": {},
     "output_type": "display_data"
    }
   ],
   "source": [
    "plt.figure(figsize=(10, 6))\n",
    "ax = sns.countplot(data=df_top_10, x='Nationality', hue='Gender')\n",
    "for bars in ax.containers:\n",
    "    ax.bar_label(bars)\n",
    "plt.xticks(rotation=45, ha='right')  \n",
    "plt.title('Top 10 Nationalities by Gender')\n",
    "plt.xlabel('Nationality')\n",
    "plt.ylabel('Count')\n",
    "plt.legend(title='Gender')\n",
    "plt.show()"
   ]
  },
  {
   "cell_type": "markdown",
   "id": "6713e18e-1574-4b36-8651-7caf9ba6d52b",
   "metadata": {},
   "source": [
    "**American men are seen to be in the highest amount.**\n"
   ]
  },
  {
   "cell_type": "code",
   "execution_count": 94,
   "id": "16f84d8b-d9f0-4ddd-96df-c9679888eac5",
   "metadata": {},
   "outputs": [
    {
     "data": {
      "text/plain": [
       "Text(0.5, 1.0, 'Top 10 years Artists were born.')"
      ]
     },
     "execution_count": 94,
     "metadata": {},
     "output_type": "execute_result"
    },
    {
     "data": {
      "image/png": "[encoded data removed]",
      "text/plain": [
       "<Figure size 1000x600 with 1 Axes>"
      ]
     },
     "metadata": {},
     "output_type": "display_data"
    }
   ],
   "source": [
    "year_top_10 = df['BeginDate'].value_counts().sort_values(ascending=False).head(10)\n",
    "df_year_top_10 = df[df['BeginDate'].isin(year_top_10.index)]\n",
    "plt.figure(figsize=(10, 6))\n",
    "ax = sns.countplot(data=df_year_top_10, x='BeginDate',width = 0.6)\n",
    "for bars in ax.containers:\n",
    "    ax.bar_label(bars)\n",
    "plt.xticks(rotation=45, ha='right')  \n",
    "plt.title('Top 10 years Artists were born.')"
   ]
  },
  {
   "cell_type": "code",
   "execution_count": 95,
   "id": "ea15e7d9-3705-45e4-a90a-d1c5c7c6d60b",
   "metadata": {},
   "outputs": [
    {
     "data": {
      "text/plain": [
       "<matplotlib.legend.Legend at 0x2bc2f995f10>"
      ]
     },
     "execution_count": 95,
     "metadata": {},
     "output_type": "execute_result"
    },
    {
     "data": {
      "image/png": "[encoded data removed]",
      "text/plain": [
       "<Figure size 1000x600 with 1 Axes>"
      ]
     },
     "metadata": {},
     "output_type": "display_data"
    }
   ],
   "source": [
    "plt.figure(figsize=(10, 6))\n",
    "ax = sns.countplot(data=df_year_top_10, x='BeginDate', hue='Gender')\n",
    "for bars in ax.containers:\n",
    "    ax.bar_label(bars)\n",
    "plt.xticks(rotation=45, ha='right')  \n",
    "plt.title('Top 10 year by Gender')\n",
    "plt.xlabel('Year')\n",
    "plt.ylabel('Count')\n",
    "plt.legend(title='Gender')\n"
   ]
  },
  {
   "cell_type": "code",
   "execution_count": null,
   "id": "11d27c1b-bb12-4edf-a723-6069c6b8698d",
   "metadata": {},
   "outputs": [],
   "source": []
  }
 ],
 "metadata": {
  "kernelspec": {
   "display_name": "Python 3 (ipykernel)",
   "language": "python",
   "name": "python3"
  },
  "language_info": {
   "codemirror_mode": {
    "name": "ipython",
    "version": 3
   },
   "file_extension": ".py",
   "mimetype": "text/x-python",
   "name": "python",
   "nbconvert_exporter": "python",
   "pygments_lexer": "ipython3",
   "version": "3.12.2"
  }
 },
 "nbformat": 4,
 "nbformat_minor": 5
}
